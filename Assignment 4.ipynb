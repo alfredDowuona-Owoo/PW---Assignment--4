{
 "cells": [
  {
   "cell_type": "markdown",
   "id": "c30539bf",
   "metadata": {},
   "source": [
    "##### Q1. Explain Class and Object with respect to Object-Oriented Programming. Give a suitable example."
   ]
  },
  {
   "cell_type": "markdown",
   "id": "5470fb25",
   "metadata": {},
   "source": [
    "###### Class and objects facilitate the organisation and modeling of data and behavior in a program\n",
    "* A class is a blueprint for creating objects. it puts together the data and behaviour that are common to a group of objects and provides a structure for defining objects with attributes and methods.\n",
    "* An Object is an instance of a class. Objects from a class have it own set of attributes values, but shares the sasme method as other objects in the same class."
   ]
  },
  {
   "cell_type": "code",
   "execution_count": 7,
   "id": "aa1c9687",
   "metadata": {},
   "outputs": [],
   "source": [
    "class car:\n",
    "    def __init__(self, maker, model):\n",
    "        self.maker = maker\n",
    "        self.model = model\n",
    "\n",
    "    def fuel_type(self):\n",
    "        print(f\"{self.model} runs on Gasoline!\")\n",
    "\n",
    "#car is the class that serves as the blueprint for creating car objects\n",
    "#car1 and car2 are different object of car class with each maker and model\n",
    "# the fuel_type method defines the behavior of the car object"
   ]
  },
  {
   "cell_type": "code",
   "execution_count": 8,
   "id": "2712db0d",
   "metadata": {},
   "outputs": [],
   "source": [
    "# Creating objects (instances) of the car class\n",
    "car1 = car(\"toyota\", \"corolla\")\n",
    "car2 = car(\"Benz\", \"C-class\")"
   ]
  },
  {
   "cell_type": "code",
   "execution_count": 9,
   "id": "c986f4e8",
   "metadata": {},
   "outputs": [
    {
     "name": "stdout",
     "output_type": "stream",
     "text": [
      "toyota is a corolla.\n",
      "Benz is a C-class.\n"
     ]
    }
   ],
   "source": [
    "# Accessing object attributes\n",
    "print(f\"{car1.maker} is a {car1.model}.\")\n",
    "print(f\"{car2.maker} is a {car2.model}.\")"
   ]
  },
  {
   "cell_type": "code",
   "execution_count": 10,
   "id": "7d5da010",
   "metadata": {},
   "outputs": [
    {
     "name": "stdout",
     "output_type": "stream",
     "text": [
      "corolla runs on Gasoline!\n"
     ]
    }
   ],
   "source": [
    "car1.fuel_type()"
   ]
  },
  {
   "cell_type": "code",
   "execution_count": 11,
   "id": "988b9701",
   "metadata": {},
   "outputs": [
    {
     "name": "stdout",
     "output_type": "stream",
     "text": [
      "C-class runs on Gasoline!\n"
     ]
    }
   ],
   "source": [
    "car2.fuel_type()"
   ]
  },
  {
   "cell_type": "markdown",
   "id": "19052917",
   "metadata": {},
   "source": [
    "##### Q2. Name the four pillars of OOPs."
   ]
  },
  {
   "cell_type": "markdown",
   "id": "cb7bfdad",
   "metadata": {},
   "source": [
    "* 1. Encapsulation\n",
    "* 2. Inheritance\n",
    "* 3. Polymorphism\n",
    "* 4. Abstraction"
   ]
  },
  {
   "cell_type": "markdown",
   "id": "c90a1c4a",
   "metadata": {},
   "source": [
    "##### Q3. Explain why the __init__() function is used. Give a suitable example."
   ]
  },
  {
   "cell_type": "markdown",
   "id": "241d7f28",
   "metadata": {},
   "source": [
    "##### The __init__() function is a special method, also known as a constructor, that is used to initialize the attributes (properties) of an object when an instance of a class is created"
   ]
  },
  {
   "cell_type": "markdown",
   "id": "8e9332d3",
   "metadata": {},
   "source": [
    "##### Q4. Why self is used in OOPs?"
   ]
  },
  {
   "cell_type": "markdown",
   "id": "e9a6cf07",
   "metadata": {},
   "source": [
    "* self is a reference to the current instance of a class\n",
    "* When you create objects from a class, each object may have its own unique set of attribute values. By using self, you can access and manipulate these attributes within the methods of the class.\n",
    "* self parameter in the method definition is used to capture a reference to the object that invoked the method"
   ]
  },
  {
   "cell_type": "markdown",
   "id": "e44edeef",
   "metadata": {},
   "source": [
    "#### Q5. What is inheritance? Give an example for each type of inheritance."
   ]
  },
  {
   "cell_type": "markdown",
   "id": "1a99e298",
   "metadata": {},
   "source": [
    "* it is a mechanism that allows a new class (called the derived or subclass) to inherit properties and behaviors from an existing class (called the base or superclass). This promotes code reusability, extensibility, and the creation of hierarchical relationships among classes."
   ]
  },
  {
   "cell_type": "markdown",
   "id": "cac90668",
   "metadata": {},
   "source": [
    "* Single Inheritance: Single inheritance involves a subclass inheriting from a single superclass."
   ]
  },
  {
   "cell_type": "markdown",
   "id": "b6335436",
   "metadata": {},
   "source": [
    "* Multiple Inheritance: Multiple inheritance allows a subclass to inherit attributes and methods from multiple superclasses "
   ]
  },
  {
   "cell_type": "markdown",
   "id": "4b955898",
   "metadata": {},
   "source": [
    "* Multilevel Inheritance: Multilevel inheritance involves a chain of inheritance where a subclass becomes the superclass for another subclass. It creates a hierarchical structure."
   ]
  },
  {
   "cell_type": "markdown",
   "id": "2122b96f",
   "metadata": {},
   "source": [
    "* Hierarchical Inheritance: Hierarchical inheritance involves multiple subclasses inheriting from a single superclass. "
   ]
  },
  {
   "cell_type": "markdown",
   "id": "b2541664",
   "metadata": {},
   "source": [
    "* Hybrid (or Mixin) Inheritance: Hybrid inheritance is a combination of different types of inheritance within the same program"
   ]
  },
  {
   "cell_type": "code",
   "execution_count": null,
   "id": "cb18d731",
   "metadata": {},
   "outputs": [],
   "source": []
  }
 ],
 "metadata": {
  "kernelspec": {
   "display_name": "Python 3 (ipykernel)",
   "language": "python",
   "name": "python3"
  },
  "language_info": {
   "codemirror_mode": {
    "name": "ipython",
    "version": 3
   },
   "file_extension": ".py",
   "mimetype": "text/x-python",
   "name": "python",
   "nbconvert_exporter": "python",
   "pygments_lexer": "ipython3",
   "version": "3.9.13"
  }
 },
 "nbformat": 4,
 "nbformat_minor": 5
}
