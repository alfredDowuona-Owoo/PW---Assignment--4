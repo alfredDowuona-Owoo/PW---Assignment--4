{
 "cells": [
  {
   "cell_type": "markdown",
   "id": "301b0ef1",
   "metadata": {},
   "source": [
    "##### Q1, Create a vehicle class with an init method having instance variables as name_of_vehicle, max_speed and average_of_vehicle."
   ]
  },
  {
   "cell_type": "code",
   "execution_count": 1,
   "id": "5623d7b2",
   "metadata": {},
   "outputs": [
    {
     "name": "stdout",
     "output_type": "stream",
     "text": [
      "Name: Car\n",
      "Max Speed: 200 km/h\n",
      "Average Speed: 30 km/h\n"
     ]
    }
   ],
   "source": [
    "class Vehicle:\n",
    "    def __init__(self, name_of_vehicle, max_speed, average_of_vehicle):\n",
    "        self.name_of_vehicle = name_of_vehicle\n",
    "        self.max_speed = max_speed\n",
    "        self.average_of_vehicle = average_of_vehicle\n",
    "\n",
    "# Example usage:\n",
    "car = Vehicle(\"Car\", 200, 30)\n",
    "print(f\"Name: {car.name_of_vehicle}\")\n",
    "print(f\"Max Speed: {car.max_speed} km/h\")\n",
    "print(f\"Average Speed: {car.average_of_vehicle} km/h\")"
   ]
  },
  {
   "cell_type": "markdown",
   "id": "b421dc7e",
   "metadata": {},
   "source": [
    "###### Q2. Create a child class car from the vehicle class created in Que 1, which will inherit the vehicle class. Create a method named seating_capacity which takes capacity as an argument and returns the name of the vehicle and its seating capacity."
   ]
  },
  {
   "cell_type": "code",
   "execution_count": 3,
   "id": "5cfc5827",
   "metadata": {},
   "outputs": [
    {
     "name": "stdout",
     "output_type": "stream",
     "text": [
      "Car has a seating capacity of 5 passengers.\n"
     ]
    }
   ],
   "source": [
    "class Vehicle:\n",
    "    def __init__(self, name_of_vehicle, max_speed, average_of_vehicle):\n",
    "        self.name_of_vehicle = name_of_vehicle\n",
    "        self.max_speed = max_speed\n",
    "        self.average_of_vehicle = average_of_vehicle\n",
    "        \n",
    "        \n",
    "class Car(Vehicle):\n",
    "    def __init__(self, name_of_vehicle, max_speed, average_of_vehicle ):\n",
    "        super().__init__(name_of_vehicle, max_speed, average_of_vehicle)\n",
    "\n",
    "    def seating_capacity(self, capacity):\n",
    "        return f\"{self.name_of_vehicle} has a seating capacity of {capacity} passengers.\"\n",
    "\n",
    "# Example usage:\n",
    "car = Car(\"Car\", 200, 30)\n",
    "print(car.seating_capacity(5))"
   ]
  },
  {
   "cell_type": "markdown",
   "id": "65309e81",
   "metadata": {},
   "source": [
    "##### Q3. What is multiple inheritance? Write a python code to demonstrate multiple inheritance."
   ]
  },
  {
   "cell_type": "markdown",
   "id": "fba7234c",
   "metadata": {},
   "source": [
    "Multiple inheritance allows a class to inherit attributes and methods from more than one parent class"
   ]
  },
  {
   "cell_type": "code",
   "execution_count": 11,
   "id": "9c8549e3",
   "metadata": {},
   "outputs": [],
   "source": [
    "class classs1:\n",
    "    def test_classs1(self):\n",
    "        print(\"this is my first parent class1\")\n",
    "        \n",
    "        \n",
    "class classs2():\n",
    "    def test_classs2(self):\n",
    "        print(\"this is my second parent class2\")\n",
    "        \n",
    "class classs3(classs1, classs2):\n",
    "    pass"
   ]
  },
  {
   "cell_type": "code",
   "execution_count": 12,
   "id": "309a26ad",
   "metadata": {},
   "outputs": [
    {
     "name": "stdout",
     "output_type": "stream",
     "text": [
      "this is my first parent class1\n",
      "None\n",
      "this is my second parent class2\n",
      "None\n"
     ]
    }
   ],
   "source": [
    "object_class = classs3()\n",
    "print(object_class.test_classs1())\n",
    "print(object_class.test_classs2())"
   ]
  },
  {
   "cell_type": "markdown",
   "id": "6f31fa11",
   "metadata": {},
   "source": [
    "##### Q4. What are getter and setter in python? Create a class and create a getter and a setter method in this class."
   ]
  },
  {
   "cell_type": "markdown",
   "id": "d141d35f",
   "metadata": {},
   "source": [
    "Getter and setter methods are used to control access to the attributes of a class. Getter methods are used to retrieve the value of an attribute, and setter methods are used to modify the value of an attribute while performing validation or other operations if needed."
   ]
  },
  {
   "cell_type": "code",
   "execution_count": 13,
   "id": "b63c4a4b",
   "metadata": {},
   "outputs": [],
   "source": [
    "class pwskills:\n",
    "    \n",
    "    def __init__(self,course_price, course_name):\n",
    "        self.course_price = course_price\n",
    "        self.course_name = course_name\n",
    "        \n",
    "    @property\n",
    "    def course_price_access(self):\n",
    "        return self.course_price\n",
    "    \n",
    "    @course_price_access.setter\n",
    "    def course_price_set(self,price):\n",
    "        if price <= 3500:\n",
    "            pass\n",
    "        else:\n",
    "            self.course_price = price "
   ]
  },
  {
   "cell_type": "code",
   "execution_count": 15,
   "id": "73ab8f7e",
   "metadata": {},
   "outputs": [
    {
     "name": "stdout",
     "output_type": "stream",
     "text": [
      "3500\n",
      "3500\n",
      "data science master\n"
     ]
    }
   ],
   "source": [
    "pw = pwskills(3500, \"data science master\")\n",
    "print(pw.course_price)\n",
    "print(pw.course_price_access)\n",
    "print(pw.course_name)"
   ]
  },
  {
   "cell_type": "code",
   "execution_count": 17,
   "id": "92ae4741",
   "metadata": {},
   "outputs": [
    {
     "name": "stdout",
     "output_type": "stream",
     "text": [
      "4500\n",
      "4500\n",
      "data science master\n"
     ]
    }
   ],
   "source": [
    "pw = pwskills(4500, \"data science master\")\n",
    "print(pw.course_price)\n",
    "print(pw.course_price_access)\n",
    "print(pw.course_name)"
   ]
  },
  {
   "cell_type": "markdown",
   "id": "756949e6",
   "metadata": {},
   "source": [
    "##### Q5.What is method overriding in python? Write a python code to demonstrate method overriding."
   ]
  },
  {
   "cell_type": "markdown",
   "id": "e4754506",
   "metadata": {},
   "source": [
    "Method overriding is a feature in object-oriented programming that allows a subclass to provide a specific implementation for a method that is already defined in its parent class."
   ]
  },
  {
   "cell_type": "code",
   "execution_count": 18,
   "id": "4ecefbd5",
   "metadata": {},
   "outputs": [
    {
     "name": "stdout",
     "output_type": "stream",
     "text": [
      "Animal speaks\n",
      "Dog barks\n",
      "Cat meows\n"
     ]
    }
   ],
   "source": [
    "class Animal:\n",
    "    def speak(self):\n",
    "        print(\"Animal speaks\")\n",
    "\n",
    "class Dog(Animal):\n",
    "    def speak(self):\n",
    "        print(\"Dog barks\")\n",
    "\n",
    "class Cat(Animal):\n",
    "    def speak(self):\n",
    "        print(\"Cat meows\")\n",
    "\n",
    "# Create instances of the classes\n",
    "animal = Animal()\n",
    "dog = Dog()\n",
    "cat = Cat()\n",
    "\n",
    "# Demonstrate method overriding\n",
    "animal.speak()  # Calls the method from the Animal class\n",
    "dog.speak()     # Calls the overridden method in the Dog class\n",
    "cat.speak()     # Calls the overridden method in the Cat class\n"
   ]
  },
  {
   "cell_type": "code",
   "execution_count": null,
   "id": "aeece7d7",
   "metadata": {},
   "outputs": [],
   "source": []
  }
 ],
 "metadata": {
  "kernelspec": {
   "display_name": "Python 3 (ipykernel)",
   "language": "python",
   "name": "python3"
  },
  "language_info": {
   "codemirror_mode": {
    "name": "ipython",
    "version": 3
   },
   "file_extension": ".py",
   "mimetype": "text/x-python",
   "name": "python",
   "nbconvert_exporter": "python",
   "pygments_lexer": "ipython3",
   "version": "3.11.4"
  }
 },
 "nbformat": 4,
 "nbformat_minor": 5
}
